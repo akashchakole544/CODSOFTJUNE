{
 "cells": [
  {
   "cell_type": "markdown",
   "id": "afb59d00",
   "metadata": {},
   "source": [
    "# Python Programming Internship @Codsoft"
   ]
  },
  {
   "cell_type": "markdown",
   "id": "75c5c4de",
   "metadata": {},
   "source": [
    "## Task : Password Generator"
   ]
  },
  {
   "cell_type": "code",
   "execution_count": 11,
   "id": "27555d98",
   "metadata": {},
   "outputs": [
    {
     "name": "stdout",
     "output_type": "stream",
     "text": [
      "Password Generator\n",
      "Enter desired password length: 5\n",
      "Generated Password: 0UIuI\n"
     ]
    }
   ],
   "source": [
    "import random\n",
    "import string\n",
    "\n",
    "def generate_password(length):\n",
    "    characters = string.ascii_letters + string.digits + string.punctuation\n",
    "    password = ''.join(random.choice(characters) for _ in range(length))\n",
    "    return password\n",
    "\n",
    "def main():\n",
    "    print(\"Password Generator\")\n",
    "    length = int(input(\"Enter desired password length: \"))\n",
    "    \n",
    "    if length <= 4:\n",
    "        print(\"Password length must be greater than 4.\")\n",
    "    else:\n",
    "        password = generate_password(length)\n",
    "        print(\"Generated Password:\", password)\n",
    "        \n",
    "if __name__ == \"__main__\":\n",
    "    main()\n"
   ]
  },
  {
   "cell_type": "code",
   "execution_count": null,
   "id": "c1452fc9",
   "metadata": {},
   "outputs": [],
   "source": []
  },
  {
   "cell_type": "code",
   "execution_count": null,
   "id": "6d9a815a",
   "metadata": {},
   "outputs": [],
   "source": []
  }
 ],
 "metadata": {
  "kernelspec": {
   "display_name": "Python 3 (ipykernel)",
   "language": "python",
   "name": "python3"
  },
  "language_info": {
   "codemirror_mode": {
    "name": "ipython",
    "version": 3
   },
   "file_extension": ".py",
   "mimetype": "text/x-python",
   "name": "python",
   "nbconvert_exporter": "python",
   "pygments_lexer": "ipython3",
   "version": "3.10.9"
  }
 },
 "nbformat": 4,
 "nbformat_minor": 5
}
