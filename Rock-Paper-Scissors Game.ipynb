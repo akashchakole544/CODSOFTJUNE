{
 "cells": [
  {
   "cell_type": "markdown",
   "id": "f3768eb9",
   "metadata": {},
   "source": [
    "# Python Programming Internship @Codsoft"
   ]
  },
  {
   "cell_type": "markdown",
   "id": "206d68c0",
   "metadata": {},
   "source": [
    "## Task: Rock-Paper-Scissors Game"
   ]
  },
  {
   "cell_type": "code",
   "execution_count": null,
   "id": "71cfdc79",
   "metadata": {},
   "outputs": [
    {
     "name": "stdout",
     "output_type": "stream",
     "text": [
      "\n",
      "Welcome to the Rock, Paper, Scissors game!\n",
      "\n",
      "Please choose rock, paper, or scissors: rock\n",
      "\n",
      "You chose: rock\n",
      "Computer chose: paper\n",
      "Computer wins!\n",
      "\n",
      "Would you like to play another round? (Yes/No): yes\n",
      "\n",
      "Welcome to the Rock, Paper, Scissors game!\n",
      "\n",
      "Please choose rock, paper, or scissors: scissors\n",
      "\n",
      "You chose: scissors\n",
      "Computer chose: scissors\n",
      "It's a tie!\n",
      "\n",
      "Would you like to play another round? (Yes/No): yes\n",
      "\n",
      "Welcome to the Rock, Paper, Scissors game!\n",
      "\n",
      "Please choose rock, paper, or scissors: rock\n",
      "\n",
      "You chose: rock\n",
      "Computer chose: paper\n",
      "Computer wins!\n",
      "\n",
      "Would you like to play another round? (Yes/No): yes\n",
      "\n",
      "Welcome to the Rock, Paper, Scissors game!\n",
      "\n",
      "Please choose rock, paper, or scissors: paper\n",
      "\n",
      "You chose: paper\n",
      "Computer chose: rock\n",
      "You win!\n"
     ]
    }
   ],
   "source": [
    "import random\n",
    "\n",
    "def determine_winner(user_choice, computer_choice):\n",
    "    if user_choice == computer_choice:\n",
    "        return \"It's a tie!\"\n",
    "    elif user_choice == \"rock\":\n",
    "        return \"You win!\" if computer_choice == \"scissors\" else \"Computer wins!\"\n",
    "    elif user_choice == \"paper\":\n",
    "        return \"You win!\" if computer_choice == \"rock\" else \"Computer wins!\"\n",
    "    elif user_choice == \"scissors\":\n",
    "        return \"You win!\" if computer_choice == \"paper\" else \"Computer wins!\"\n",
    "\n",
    "def play_game():\n",
    "    user_score = 0\n",
    "    computer_score = 0\n",
    "\n",
    "    while True:\n",
    "        print(\"\\nWelcome to the Rock, Paper, Scissors game!\\n\")\n",
    "        user_choice = input(\"Please choose rock, paper, or scissors: \").lower()\n",
    "\n",
    "        if user_choice not in [\"rock\", \"paper\", \"scissors\"]:\n",
    "            print(\"Invalid input. Please choose rock, paper, or scissors.\")\n",
    "            continue\n",
    "\n",
    "        computer_choice = random.choice([\"rock\", \"paper\", \"scissors\"])\n",
    "        print(f\"\\nYou chose: {user_choice}\\nComputer chose: {computer_choice}\")\n",
    "\n",
    "        result = determine_winner(user_choice, computer_choice)\n",
    "        print(result)\n",
    "\n",
    "        if result == \"You win!\":\n",
    "            user_score += 1\n",
    "        elif result == \"Computer wins!\":\n",
    "            computer_score += 1\n",
    "\n",
    "        play_again = input(\"\\nWould you like to play another round? (Yes/No): \").lower()\n",
    "        if play_again != \"yes\":\n",
    "            print(f\"\\nFinal Score - You: {user_score} | Computer: {computer_score}\")\n",
    "            print(\"Thank you for playing Rock, Paper, Scissors!\")\n",
    "            break\n",
    "\n",
    "if __name__ == \"__main__\":\n",
    "    play_game()\n"
   ]
  },
  {
   "cell_type": "code",
   "execution_count": null,
   "id": "4d835207",
   "metadata": {},
   "outputs": [],
   "source": []
  },
  {
   "cell_type": "code",
   "execution_count": null,
   "id": "b3312da1",
   "metadata": {},
   "outputs": [],
   "source": []
  }
 ],
 "metadata": {
  "kernelspec": {
   "display_name": "Python 3 (ipykernel)",
   "language": "python",
   "name": "python3"
  },
  "language_info": {
   "codemirror_mode": {
    "name": "ipython",
    "version": 3
   },
   "file_extension": ".py",
   "mimetype": "text/x-python",
   "name": "python",
   "nbconvert_exporter": "python",
   "pygments_lexer": "ipython3",
   "version": "3.10.9"
  }
 },
 "nbformat": 4,
 "nbformat_minor": 5
}
