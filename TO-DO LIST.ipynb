{
 "cells": [
  {
   "cell_type": "markdown",
   "id": "78c7b998",
   "metadata": {},
   "source": [
    "## Python Programming Internship CodSoft"
   ]
  },
  {
   "cell_type": "code",
   "execution_count": null,
   "id": "a69cd437",
   "metadata": {},
   "outputs": [],
   "source": []
  },
  {
   "cell_type": "code",
   "execution_count": 1,
   "id": "d3f4eada",
   "metadata": {},
   "outputs": [],
   "source": [
    "import json\n",
    "import os"
   ]
  },
  {
   "cell_type": "code",
   "execution_count": 2,
   "id": "e7e9bf1c",
   "metadata": {},
   "outputs": [],
   "source": [
    "# File to store the to-do list data\n",
    "TODO_FILE = \"todo.json\""
   ]
  },
  {
   "cell_type": "code",
   "execution_count": 3,
   "id": "fbdcb6fa",
   "metadata": {},
   "outputs": [],
   "source": [
    "# Load existing to-do list from file\n",
    "def load_todo():\n",
    "    if os.path.exists(TODO_FILE):\n",
    "        with open(TODO_FILE, \"r\") as f:\n",
    "            return json.load(f)\n",
    "    return []"
   ]
  },
  {
   "cell_type": "code",
   "execution_count": 4,
   "id": "ccd49fc0",
   "metadata": {},
   "outputs": [],
   "source": [
    "# Save updated to-do list to file\n",
    "def save_todo(todo_list):\n",
    "    with open(TODO_FILE, \"w\") as f:\n",
    "        json.dump(todo_list, f, indent=4)"
   ]
  },
  {
   "cell_type": "code",
   "execution_count": 5,
   "id": "351848d9",
   "metadata": {},
   "outputs": [],
   "source": [
    "# Add a task to the to-do list\n",
    "def add_task(todo_list, task):\n",
    "    todo_list.append({\"task\": task, \"completed\": False})"
   ]
  },
  {
   "cell_type": "code",
   "execution_count": 6,
   "id": "8c03ecc5",
   "metadata": {},
   "outputs": [],
   "source": [
    "# Display the current to-do list\n",
    "def show_tasks(todo_list):\n",
    "    for idx, task in enumerate(todo_list, start=1):\n",
    "        status = \"[x]\" if task[\"completed\"] else \"[ ]\"\n",
    "        print(f\"{idx}. {status} {task['task']}\")"
   ]
  },
  {
   "cell_type": "code",
   "execution_count": 7,
   "id": "5d1e91eb",
   "metadata": {},
   "outputs": [],
   "source": [
    "# Mark a task as completed\n",
    "def complete_task(todo_list, task_index):\n",
    "    if 1 <= task_index <= len(todo_list):\n",
    "        todo_list[task_index - 1][\"completed\"] = True"
   ]
  },
  {
   "cell_type": "code",
   "execution_count": 8,
   "id": "95faea67",
   "metadata": {},
   "outputs": [],
   "source": [
    "# Remove a task from the to-do list\n",
    "def remove_task(todo_list, task_index):\n",
    "    if 1 <= task_index <= len(todo_list):\n",
    "        todo_list.pop(task_index - 1)"
   ]
  },
  {
   "cell_type": "code",
   "execution_count": 9,
   "id": "f572c040",
   "metadata": {},
   "outputs": [],
   "source": [
    "def main():\n",
    "    todo_list = load_todo()\n",
    "\n",
    "    while True:\n",
    "        print(\"\\nTo-Do List:\")\n",
    "        show_tasks(todo_list)\n",
    "\n",
    "        print(\"\\nOptions:\")\n",
    "        print(\"1. Add Task\")\n",
    "        print(\"2. Mark Task as Completed\")\n",
    "        print(\"3. Remove Task\")\n",
    "        print(\"4. Exit\")\n",
    "\n",
    "        choice = input(\"Select an option: \")\n",
    "\n",
    "        if choice == \"1\":\n",
    "            task = input(\"Enter task description: \")\n",
    "            add_task(todo_list, task)\n",
    "        elif choice == \"2\":\n",
    "            task_index = int(input(\"Enter task number to mark as completed: \"))\n",
    "            complete_task(todo_list, task_index)\n",
    "        elif choice == \"3\":\n",
    "            task_index = int(input(\"Enter task number to remove: \"))\n",
    "            remove_task(todo_list, task_index)\n",
    "        elif choice == \"4\":\n",
    "            save_todo(todo_list)\n",
    "            print(\"Exiting...\")\n",
    "            break\n",
    "        else:\n",
    "            print(\"Invalid option. Please try again.\")"
   ]
  },
  {
   "cell_type": "code",
   "execution_count": 10,
   "id": "3cc477e3",
   "metadata": {},
   "outputs": [
    {
     "name": "stdout",
     "output_type": "stream",
     "text": [
      "\n",
      "To-Do List:\n",
      "1. [ ] go to bazar\n",
      "\n",
      "Options:\n",
      "1. Add Task\n",
      "2. Mark Task as Completed\n",
      "3. Remove Task\n",
      "4. Exit\n",
      "Select an option: 1\n",
      "Enter task description: adehd\n",
      "\n",
      "To-Do List:\n",
      "1. [ ] go to bazar\n",
      "2. [ ] adehd\n",
      "\n",
      "Options:\n",
      "1. Add Task\n",
      "2. Mark Task as Completed\n",
      "3. Remove Task\n",
      "4. Exit\n",
      "Select an option: 2\n",
      "Enter task number to mark as completed: 2\n",
      "\n",
      "To-Do List:\n",
      "1. [ ] go to bazar\n",
      "2. [x] adehd\n",
      "\n",
      "Options:\n",
      "1. Add Task\n",
      "2. Mark Task as Completed\n",
      "3. Remove Task\n",
      "4. Exit\n",
      "Select an option: 3\n",
      "Enter task number to remove: 2\n",
      "\n",
      "To-Do List:\n",
      "1. [ ] go to bazar\n",
      "\n",
      "Options:\n",
      "1. Add Task\n",
      "2. Mark Task as Completed\n",
      "3. Remove Task\n",
      "4. Exit\n",
      "Select an option: 4\n",
      "Exiting...\n"
     ]
    }
   ],
   "source": [
    "if __name__ == \"__main__\":\n",
    "    main()"
   ]
  },
  {
   "cell_type": "code",
   "execution_count": null,
   "id": "76ee730a",
   "metadata": {},
   "outputs": [],
   "source": []
  },
  {
   "cell_type": "code",
   "execution_count": null,
   "id": "19a5d213",
   "metadata": {},
   "outputs": [],
   "source": []
  }
 ],
 "metadata": {
  "kernelspec": {
   "display_name": "Python 3 (ipykernel)",
   "language": "python",
   "name": "python3"
  },
  "language_info": {
   "codemirror_mode": {
    "name": "ipython",
    "version": 3
   },
   "file_extension": ".py",
   "mimetype": "text/x-python",
   "name": "python",
   "nbconvert_exporter": "python",
   "pygments_lexer": "ipython3",
   "version": "3.10.9"
  }
 },
 "nbformat": 4,
 "nbformat_minor": 5
}
