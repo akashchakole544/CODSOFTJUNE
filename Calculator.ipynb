{
 "cells": [
  {
   "cell_type": "markdown",
   "id": "49eded7c",
   "metadata": {},
   "source": [
    "# Python Programming Internship @Codsoft"
   ]
  },
  {
   "cell_type": "markdown",
   "id": "7c6e4878",
   "metadata": {},
   "source": [
    "## Task : Calculator"
   ]
  },
  {
   "cell_type": "code",
   "execution_count": 1,
   "id": "12e5ee8b",
   "metadata": {},
   "outputs": [
    {
     "name": "stdout",
     "output_type": "stream",
     "text": [
      "Select operation:\n",
      "1. Add\n",
      "2. Subtract\n",
      "3. Multiply\n",
      "4. Divide\n",
      "5. Exit\n",
      "\n",
      "Enter choice (1/2/3/4/5): 1\n",
      "Enter first number: 4\n",
      "Enter second number: 3\n",
      "Addition : 4.0 + 3.0 = 7.0\n",
      "\n",
      "Enter choice (1/2/3/4/5): 2\n",
      "Enter first number: 6\n",
      "Enter second number: 3\n",
      "Substraction : 6.0 - 3.0 = 3.0\n",
      "\n",
      "Enter choice (1/2/3/4/5): 6\n",
      "Invalid input\n",
      "\n",
      "Enter choice (1/2/3/4/5): 3\n",
      "Enter first number: 7\n",
      "Enter second number: 4\n",
      "Multiplication : 7.0 * 4.0 = 28.0\n",
      "\n",
      "Enter choice (1/2/3/4/5): 4\n",
      "Enter first number: 2\n",
      "Enter second number: 2\n",
      "Divide : 2.0 / 2.0 = 1.0\n",
      "\n",
      "Enter choice (1/2/3/4/5): 5\n",
      "Exiting...\n"
     ]
    }
   ],
   "source": [
    "def add(x, y):\n",
    "    return x + y\n",
    "\n",
    "def subtract(x, y):\n",
    "    return x - y\n",
    "\n",
    "def multiply(x, y):\n",
    "    return x * y\n",
    "\n",
    "def divide(x, y):\n",
    "    if y == 0:\n",
    "        return \"Cannot divide by zero\"\n",
    "    return x / y\n",
    "\n",
    "print(\"Select operation:\")\n",
    "print(\"1. Add\")\n",
    "print(\"2. Subtract\")\n",
    "print(\"3. Multiply\")\n",
    "print(\"4. Divide\")\n",
    "print(\"5. Exit\")\n",
    "\n",
    "while True:\n",
    "    choice = int(input(\"\\nEnter choice (1/2/3/4/5): \"))\n",
    "\n",
    "    if choice == 1:\n",
    "        num1 = float(input(\"Enter first number: \"))\n",
    "        num2 = float(input(\"Enter second number: \")) \n",
    "        print(\"Addition :\",num1, \"+\", num2, \"=\", add(num1, num2))\n",
    "    elif choice == 2:\n",
    "        num1 = float(input(\"Enter first number: \"))\n",
    "        num2 = float(input(\"Enter second number: \")) \n",
    "        print(\"Substraction :\", num1, \"-\", num2, \"=\", subtract(num1, num2))\n",
    "    elif choice == 3:\n",
    "        num1 = float(input(\"Enter first number: \"))\n",
    "        num2 = float(input(\"Enter second number: \")) \n",
    "        print(\"Multiplication :\", num1, \"*\", num2, \"=\", multiply(num1, num2))\n",
    "    elif choice == 4:\n",
    "        num1 = float(input(\"Enter first number: \"))\n",
    "        num2 = float(input(\"Enter second number: \")) \n",
    "        print(\"Divide :\",num1, \"/\", num2, \"=\", divide(num1, num2))\n",
    "    elif choice == 5:\n",
    "        print(\"Exiting...\")\n",
    "        break\n",
    "    else:\n",
    "        print(\"Invalid input\")\n"
   ]
  },
  {
   "cell_type": "code",
   "execution_count": null,
   "id": "f86fa75c",
   "metadata": {},
   "outputs": [],
   "source": []
  }
 ],
 "metadata": {
  "kernelspec": {
   "display_name": "Python 3 (ipykernel)",
   "language": "python",
   "name": "python3"
  },
  "language_info": {
   "codemirror_mode": {
    "name": "ipython",
    "version": 3
   },
   "file_extension": ".py",
   "mimetype": "text/x-python",
   "name": "python",
   "nbconvert_exporter": "python",
   "pygments_lexer": "ipython3",
   "version": "3.10.9"
  }
 },
 "nbformat": 4,
 "nbformat_minor": 5
}
